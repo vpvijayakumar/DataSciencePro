{
 "cells": [
  {
   "cell_type": "code",
   "execution_count": 14,
   "id": "1c50af2d-33c9-4d30-8730-426fe7eabeac",
   "metadata": {},
   "outputs": [],
   "source": [
    "# 19th Aguest Assignment - Topic : Python Basic Variable\n",
    "''' \n",
    "Task 1 - Swap the values of variables without temporary variable.\n",
    "     Step 1 : Declare two varibles x and y and assign them inter values 10 and 20 like x=10 and y=20\n",
    "      Step 2 : Swap the values of the Varibles without using any temporary varible and output y=20 and x=10\n",
    "'''\n",
    "# Declare x and y and assign the inter values\n",
    "x,y=10,20\n"
   ]
  },
  {
   "cell_type": "code",
   "execution_count": 15,
   "id": "2459328a-0252-4a5f-9b17-9b97d26f057e",
   "metadata": {},
   "outputs": [
    {
     "data": {
      "text/plain": [
       "int"
      ]
     },
     "execution_count": 15,
     "metadata": {},
     "output_type": "execute_result"
    }
   ],
   "source": [
    "# verify variable x type \n",
    "type(x)"
   ]
  },
  {
   "cell_type": "code",
   "execution_count": 16,
   "id": "066603c2-8d42-401a-9a2b-0638cf5bb430",
   "metadata": {},
   "outputs": [
    {
     "data": {
      "text/plain": [
       "int"
      ]
     },
     "execution_count": 16,
     "metadata": {},
     "output_type": "execute_result"
    }
   ],
   "source": [
    "# verify variable x type \n",
    "type(y)"
   ]
  },
  {
   "cell_type": "code",
   "execution_count": 17,
   "id": "b4ed7d6e-d496-4e1b-a0ca-22a421721f5e",
   "metadata": {},
   "outputs": [
    {
     "name": "stdout",
     "output_type": "stream",
     "text": [
      "10 20\n"
     ]
    }
   ],
   "source": [
    "#print the values of the inter variable declared \n",
    "print(x,y)"
   ]
  },
  {
   "cell_type": "code",
   "execution_count": 18,
   "id": "f45a1f21-589e-4afb-9ad3-a0e413890186",
   "metadata": {},
   "outputs": [],
   "source": [
    "# Swap the values of the varibles\n",
    "x,y=y,x\n"
   ]
  },
  {
   "cell_type": "code",
   "execution_count": 19,
   "id": "78d5ba39-e7d2-4ad8-80b6-182c9a139f88",
   "metadata": {},
   "outputs": [
    {
     "name": "stdout",
     "output_type": "stream",
     "text": [
      "20 10\n"
     ]
    }
   ],
   "source": [
    "#print the x and y values after swape variable\n",
    "print(x,y)"
   ]
  },
  {
   "cell_type": "code",
   "execution_count": 22,
   "id": "82e10d43-4f58-4557-aaa3-f7da19d00fb5",
   "metadata": {},
   "outputs": [
    {
     "name": "stdin",
     "output_type": "stream",
     "text": [
      "Please enter the length of the rectangle: 10\n",
      "Please enter the width of the rectangle :  5\n"
     ]
    }
   ],
   "source": [
    "''' \n",
    "Task 2 - Calculate the area of a rectangle\n",
    "    Step 1 : Get the input from user for length and width values using input function and convert to float value\n",
    "    Step 2 : Calculate the Area of rectangle formula is \"Area = length * Width\".\n",
    "'''\n",
    "#Get the length value from user \n",
    "length = float(input('Please enter the length of the rectangle:'))\n",
    "\n",
    "#Get the width values from user\n",
    "width = float(input('Please enter the width of the rectangle : '))\n",
    "\n",
    "#Calculate the area\n",
    "area = length * width\n"
   ]
  },
  {
   "cell_type": "code",
   "execution_count": 23,
   "id": "6733601e-a1f8-4e83-a051-76f879ec5f9e",
   "metadata": {},
   "outputs": [
    {
     "name": "stdout",
     "output_type": "stream",
     "text": [
      "Area of the rectangle is  50.0\n"
     ]
    }
   ],
   "source": [
    "#print the Area value\n",
    "print(\"Area of the rectangle is \", area)"
   ]
  },
  {
   "cell_type": "code",
   "execution_count": 26,
   "id": "5aba7ada-ed4f-46ec-8e8f-dcb956a093a4",
   "metadata": {},
   "outputs": [
    {
     "name": "stdin",
     "output_type": "stream",
     "text": [
      "Please enter the temperature in Celsius: 41\n"
     ]
    }
   ],
   "source": [
    "''' \n",
    "Task 3 - Convert temperature from Celsius to Fahrenheit\n",
    "    Step 1 : Get the input Celsius values using input function and store in cel varibale\n",
    "    Step 2 : Calculate the Fahrenheit value using formula is \"Fahrenheit = (Celsius * 1.8) + 32\n",
    "'''\n",
    "#Get the Celsisus value from user \n",
    "celsius = float(input('Please enter the temperature in Celsius:'))\n",
    "\n",
    "# Convert Cnlsius to Fahrenheit using Fahrenheit = (Celsius * 1.8)+32\n",
    "fahrenheit = (celsius * 1.8) + 32\n"
   ]
  },
  {
   "cell_type": "code",
   "execution_count": 27,
   "id": "69c00e9b-dcaf-41b4-b9e1-2c65dfcc191f",
   "metadata": {},
   "outputs": [
    {
     "name": "stdout",
     "output_type": "stream",
     "text": [
      "Fehenheit temperature is  105.8\n"
     ]
    }
   ],
   "source": [
    "#print the Fahrenheit value\n",
    "print(\"Fehenheit temperature is \",fahrenheit)"
   ]
  },
  {
   "cell_type": "code",
   "execution_count": 28,
   "id": "2c502a50-88f0-4600-b5d2-2b6ca5383479",
   "metadata": {},
   "outputs": [
    {
     "name": "stdin",
     "output_type": "stream",
     "text": [
      "Please enter your full name : Vijayakumar Veeraragava Pargunan\n"
     ]
    }
   ],
   "source": [
    "# 19th Aguest Assignment - Topic : String Based Questions\n",
    "''' \n",
    "Task 1 - Length of th string.\n",
    "     Step 1 : Get the string as input and store in instr variable\n",
    "    Step 2 : find the length of the string.\n",
    "'''\n",
    "#get the input string and store in instr varibale\n",
    "\n",
    "instr = input(\"Please enter your full name :\")\n",
    "\n",
    "# fine the length of the input string\n",
    "\n",
    "lenstr = len(instr)\n"
   ]
  },
  {
   "cell_type": "code",
   "execution_count": 29,
   "id": "027b275f-4397-4414-8f5f-b980bfbafe74",
   "metadata": {},
   "outputs": [
    {
     "name": "stdout",
     "output_type": "stream",
     "text": [
      "Length of the input string is  32\n"
     ]
    }
   ],
   "source": [
    "print(\"Length of the input string is \",lenstr)"
   ]
  },
  {
   "cell_type": "code",
   "execution_count": 36,
   "id": "9df01f43-0554-4dd7-847a-0d8fac50db85",
   "metadata": {},
   "outputs": [
    {
     "name": "stdin",
     "output_type": "stream",
     "text": [
      "Please enter sentence : Vijayakumar Veeraragava Pargunan\n"
     ]
    },
    {
     "name": "stdout",
     "output_type": "stream",
     "text": [
      "Count of number of vowels : 14\n"
     ]
    }
   ],
   "source": [
    "''' \n",
    "Task 2 - Counts the number of vowels\n",
    "    Step 1 : Get the sentence as input and store in inpsent variable\n",
    "    Step 2 : count the number of vowels in the sentence.\n",
    "'''\n",
    "#get the input string and store in inpsent varibale\n",
    "\n",
    "inpsent = input(\"Please enter sentence :\")\n",
    "\n",
    "inpsent=inpsent.lower()\n",
    "vowels = 'aeiou'\n",
    "\n",
    "# find the length of the input string\n",
    "\n",
    "count=0\n",
    "for character in inpsent:\n",
    "    if(character in vowels):\n",
    "        count +=1\n",
    "\n",
    "#print the count\n",
    "print(\"Count of number of vowels :\",count)\n"
   ]
  },
  {
   "cell_type": "code",
   "execution_count": 38,
   "id": "8989e3ce-1e21-481f-b961-652cc1955c4e",
   "metadata": {},
   "outputs": [
    {
     "name": "stdin",
     "output_type": "stream",
     "text": [
      "Please enter the text: Vijayakumar\n"
     ]
    },
    {
     "name": "stdout",
     "output_type": "stream",
     "text": [
      "ramukayajiV\n"
     ]
    }
   ],
   "source": [
    "''' \n",
    "Task 3 - Reverse the order of the characters using slicing and print reversed string.\n",
    "    Step 1 : Get the text as input and store in inpstr variable\n",
    "    Step 2 : Reverse the string using slicing\n",
    "'''\n",
    "#get the input string and store in inpstr varibale\n",
    "\n",
    "inpstr = input (\"Please enter the text:\")\n",
    "\n",
    "#Reverse the input string using slice\n",
    "\n",
    "rev_str = inpstr[::-1]\n",
    "\n",
    "#print the reversed sting\n",
    "print(rev_str)\n"
   ]
  },
  {
   "cell_type": "code",
   "execution_count": 3,
   "id": "7b06e503-bc24-4066-9f16-39d234ed0cbb",
   "metadata": {},
   "outputs": [
    {
     "name": "stdin",
     "output_type": "stream",
     "text": [
      "Please enter the string value :  vikanakavi\n"
     ]
    },
    {
     "name": "stdout",
     "output_type": "stream",
     "text": [
      "This is not Palindrome vikanakavi\n"
     ]
    }
   ],
   "source": [
    "''' \n",
    "Task 4 - string as input and check if it is a palindrome.\n",
    "    Step 1 : Get the text as input and store in inpplind variable\n",
    "    Step 2 : Reverse the string  and store the variable\n",
    "    Step 3 : check the palindrome or not.\n",
    "'''\n",
    "\n",
    "#get the input string and store in the inpplind variable\n",
    "\n",
    "intpplind = input(\"Please enter the string value : \")\n",
    "\n",
    "# reverse the input string using slicing\n",
    "rev_intpplind = intpplind[::-1]\n",
    "\n",
    "#Convert string and reverse string type to list and check both the values are same if yes then palindrome or not.\n",
    "\n",
    "if list(intpplind) == list(rev_intpplind): #compare the list values\n",
    "    print(\"This is Palindrome\", intpplind) #print  condition is true\n",
    "else:\n",
    "    print(\"This is not Palindrome\", intpplind) #print condition is false\n"
   ]
  },
  {
   "cell_type": "code",
   "execution_count": 6,
   "id": "de3a22d1-f869-4cae-8e81-2e54bef7553a",
   "metadata": {},
   "outputs": [
    {
     "name": "stdin",
     "output_type": "stream",
     "text": [
      "Please enter the string value :             vijayakumar        \n"
     ]
    },
    {
     "name": "stdout",
     "output_type": "stream",
     "text": [
      "After removed the input string value : vijayakumar\n"
     ]
    }
   ],
   "source": [
    "''' \n",
    "Task 5 - string as input and remove all the spaces.\n",
    "    Step 1 : Get the text as input and store in strinp variable\n",
    "    Step 2 : stip the input string and print it\n",
    "'''\n",
    "#get the input string and store in the strinp variable\n",
    "strinp = input(\"Please enter the string value : \")\n",
    "#remove all the space in the input string using strip function.\n",
    "strinp = strinp.strip()\n",
    "#print the removed spaces input\n",
    "print (\"After removed the input string value :\", strinp)"
   ]
  },
  {
   "cell_type": "code",
   "execution_count": null,
   "id": "eafae1ba-8dc3-4aa0-acda-3dac6210704e",
   "metadata": {},
   "outputs": [],
   "source": []
  }
 ],
 "metadata": {
  "kernelspec": {
   "display_name": "Python 3 (ipykernel)",
   "language": "python",
   "name": "python3"
  },
  "language_info": {
   "codemirror_mode": {
    "name": "ipython",
    "version": 3
   },
   "file_extension": ".py",
   "mimetype": "text/x-python",
   "name": "python",
   "nbconvert_exporter": "python",
   "pygments_lexer": "ipython3",
   "version": "3.10.8"
  }
 },
 "nbformat": 4,
 "nbformat_minor": 5
}
